{
 "cells": [
  {
   "cell_type": "code",
   "execution_count": null,
   "id": "1645b90b-bf35-4767-86b2-c5bb43078544",
   "metadata": {},
   "outputs": [],
   "source": [
    "import numpy as np\n",
    "import pandas as pd\n",
    "import matplotlib.pyplot as plt\n",
    "import seaborn as sns\n",
    "\n",
    "from sklearn.metrics import mean_squared_error, r2_score\n",
    "from sklearn import linear_model\n",
    "from sklearn.preprocessing import  PolynomialFeatures\n",
    "from sklearn.model_selection import train_test_split"
   ]
  },
  {
   "cell_type": "markdown",
   "id": "1b57128a-8ec7-4e84-9aaa-e79811502c05",
   "metadata": {},
   "source": [
    "## Loading the Data"
   ]
  },
  {
   "cell_type": "code",
   "execution_count": null,
   "id": "4d8dcf1d-ad42-461a-92fa-508a1d4cee3e",
   "metadata": {},
   "outputs": [],
   "source": [
    "data = pd.read_csv(\"House_Rent_Dataset.csv\")"
   ]
  },
  {
   "cell_type": "markdown",
   "id": "2d0ae8e9-602a-4889-8a64-16004b4f57e7",
   "metadata": {},
   "source": [
    "## Basic Inspection"
   ]
  },
  {
   "cell_type": "code",
   "execution_count": null,
   "id": "fb845f2c",
   "metadata": {},
   "outputs": [],
   "source": [
    "data.head(10)"
   ]
  },
  {
   "cell_type": "code",
   "execution_count": null,
   "id": "52cd1eaa-da73-4c19-8be3-2d0a96b5446d",
   "metadata": {},
   "outputs": [],
   "source": [
    "data.info()"
   ]
  },
  {
   "cell_type": "code",
   "execution_count": null,
   "id": "675e64ab-3e6c-4220-98e9-54ad8a4cddba",
   "metadata": {},
   "outputs": [],
   "source": [
    "data.isnull().sum()"
   ]
  },
  {
   "cell_type": "markdown",
   "id": "1b91b37d-8ce2-4fda-bf84-a950fc7135e8",
   "metadata": {},
   "source": [
    "## Simple Exploratory Data Analysis"
   ]
  },
  {
   "cell_type": "code",
   "execution_count": null,
   "id": "73df0372-86cd-432d-8312-97eff7fe8ba7",
   "metadata": {},
   "outputs": [],
   "source": [
    "plt.bar(data['BHK'].value_counts().index, data['BHK'].value_counts().values)"
   ]
  },
  {
   "cell_type": "code",
   "execution_count": null,
   "id": "8979557a-2ee8-40b1-bd8c-56bfa38734b3",
   "metadata": {},
   "outputs": [],
   "source": [
    "sns.distplot(data['Rent'])"
   ]
  },
  {
   "cell_type": "code",
   "execution_count": null,
   "id": "70bb5e54-235c-42fb-9e8e-c2cd87d9af90",
   "metadata": {},
   "outputs": [],
   "source": [
    "sns.distplot(data['Size'])"
   ]
  },
  {
   "cell_type": "code",
   "execution_count": null,
   "id": "c8db6d74-f32c-4464-be96-e23b0fb13d51",
   "metadata": {},
   "outputs": [],
   "source": [
    "data['Floor'].value_counts()"
   ]
  },
  {
   "cell_type": "code",
   "execution_count": null,
   "id": "fb06eb97-65a3-4d77-bd5a-4a1de3b2a78b",
   "metadata": {},
   "outputs": [],
   "source": [
    "data['Furnishing Status'].value_counts()"
   ]
  },
  {
   "cell_type": "code",
   "execution_count": null,
   "id": "30f537ea-5fc4-4a8e-a176-56265baed16d",
   "metadata": {},
   "outputs": [],
   "source": [
    "data['Area Locality'].value_counts()"
   ]
  },
  {
   "cell_type": "code",
   "execution_count": null,
   "id": "c93ff32c",
   "metadata": {},
   "outputs": [],
   "source": [
    "data['City'].value_counts()"
   ]
  },
  {
   "cell_type": "markdown",
   "id": "c381fb40-3b36-4aba-854a-ff07ac91a76e",
   "metadata": {},
   "source": [
    "## Preprocessing"
   ]
  },
  {
   "cell_type": "markdown",
   "id": "aaf5dd73",
   "metadata": {},
   "source": [
    "### Addition and Modication of Columns"
   ]
  },
  {
   "cell_type": "code",
   "execution_count": null,
   "id": "283b221c",
   "metadata": {},
   "outputs": [],
   "source": [
    "# Floor & Total Floors Columns\n",
    "\n",
    "# Sets the value of \"Ground\" to 1\n",
    "def update_floor_value(value):\n",
    "    return value.replace('Ground', '1')\n",
    "\n",
    "# Exclude rows containing 'Upper Basement' or 'Lower Basement'\n",
    "data = data[~data['Floor'].str.contains('Upper Basement|Lower Basement')]\n",
    "\n",
    "# Update floor values\n",
    "data['Floor'] = data['Floor'].apply(update_floor_value)\n",
    "\n",
    "# Create a new 'Total Floors' column\n",
    "data['Total Floors'] = data['Floor'].str.extract(r'(\\d+) out of (\\d+)|(\\d+)')[0]\n",
    "\n",
    "# Create a new 'Floor' column\n",
    "data['Floor'] = data['Floor'].str.extract(r'(\\d+)')\n",
    "\n",
    "# Drop rows where 'Total Floors' is greater than 'Floor'\n",
    "data = data[data['Total Floors'] <= data['Floor']]\n",
    "\n",
    "# Drop rows where 'Total Floors' is NaN\n",
    "data = data.dropna(subset=['Total Floors'])\n",
    "\n",
    "# Display the modified DataFrame\n",
    "data.head()"
   ]
  },
  {
   "cell_type": "markdown",
   "id": "a8b7c2b1-0c53-404c-874b-112055abe44c",
   "metadata": {},
   "source": [
    "### Conversion of Categorical Variable to One-Hot Encoding"
   ]
  },
  {
   "cell_type": "code",
   "execution_count": null,
   "id": "cdc91503-d2ad-4b50-840f-21587c8021ca",
   "metadata": {},
   "outputs": [],
   "source": [
    "data = data[['BHK', \n",
    "            'Bathroom', \n",
    "            'Furnishing Status', \n",
    "            'Rent',\n",
    "            'Size',\n",
    "            'Bathroom',\n",
    "            'Area Type',\n",
    "            'City',\n",
    "            'Point of Contact',\n",
    "            'Floor',\n",
    "            'Total Floors',\n",
    "            'Tenant Preferred'\n",
    "            ]]"
   ]
  },
  {
   "cell_type": "code",
   "execution_count": null,
   "id": "749b3477-0900-4af0-ad10-619ed848d2c8",
   "metadata": {},
   "outputs": [],
   "source": [
    "def one_hot_encode(data, column):\n",
    "    encoded = pd.get_dummies(data[column], drop_first= True)\n",
    "    data = data.drop(column, axis = 1)\n",
    "    data = data.join(encoded)\n",
    "    return data"
   ]
  },
  {
   "cell_type": "code",
   "execution_count": null,
   "id": "e5d70893-3a37-41df-a252-9249276b4484",
   "metadata": {},
   "outputs": [],
   "source": [
    "data = one_hot_encode(data, 'Furnishing Status')\n",
    "data = one_hot_encode(data, 'Area Type')\n",
    "data = one_hot_encode(data, 'City')\n",
    "data = one_hot_encode(data, 'Point of Contact')\n",
    "data = one_hot_encode(data, 'Tenant Preferred')"
   ]
  },
  {
   "cell_type": "code",
   "execution_count": null,
   "id": "b62c042f-368e-4f21-a44a-a6012ee102be",
   "metadata": {},
   "outputs": [],
   "source": [
    "data"
   ]
  },
  {
   "cell_type": "code",
   "execution_count": null,
   "id": "5b4c337b",
   "metadata": {},
   "outputs": [],
   "source": [
    "# Dealing with Outliers\n",
    "\n",
    "# Calculate the first and third quartiles (Q1 and Q3)\n",
    "Q1 = data['Rent'].quantile(0.28)\n",
    "Q3 = data['Rent'].quantile(0.72)\n",
    "\n",
    "# Calculate the Interquartile Range (IQR)\n",
    "IQR = Q3 - Q1\n",
    "\n",
    "# Define lower and upper boundaries for outliers\n",
    "lower_bound = Q1 - 1.5 * IQR\n",
    "upper_bound = Q3 + 1.5 * IQR\n",
    "\n",
    "# Identify outliers using boolean indexing\n",
    "outliers = (data['Rent'] < lower_bound) | (data['Rent'] > upper_bound)\n",
    "\n",
    "# Remove outliers from the dataset\n",
    "data = data[~outliers]\n"
   ]
  },
  {
   "cell_type": "markdown",
   "id": "1e22fcf4-b391-4c25-a0b4-745c7e531031",
   "metadata": {},
   "source": [
    "### Training and Test Split"
   ]
  },
  {
   "cell_type": "code",
   "execution_count": null,
   "id": "b3b13cea-07ec-4c80-85d3-0ffa5a30a9c2",
   "metadata": {},
   "outputs": [],
   "source": [
    "X = data.drop('Rent', axis= 1)\n",
    "y = data['Rent']"
   ]
  },
  {
   "cell_type": "code",
   "execution_count": null,
   "id": "20cabd98-1471-42be-9cb5-c0043e04c639",
   "metadata": {},
   "outputs": [],
   "source": [
    "X_train, X_test, y_train, y_test = train_test_split(X, y, test_size= 0.2, random_state = 42)"
   ]
  },
  {
   "cell_type": "markdown",
   "id": "2133c2a1-e58c-49ef-b7ca-7ffcf465e774",
   "metadata": {},
   "source": [
    "### Standardizing the Values"
   ]
  },
  {
   "cell_type": "code",
   "execution_count": null,
   "id": "73c44722-e623-4e28-91e0-73ec268485fe",
   "metadata": {},
   "outputs": [],
   "source": [
    "#Instead of StandardScaler, I used PolynomialFeatures\n",
    "\n",
    "pf = PolynomialFeatures()\n",
    "X_train = pf.fit_transform(X_train)\n",
    "X_test = pf.transform(X_test)"
   ]
  },
  {
   "cell_type": "markdown",
   "id": "42e4078d-b297-462e-aefb-67302971a4cc",
   "metadata": {},
   "source": [
    "## Modelling"
   ]
  },
  {
   "cell_type": "code",
   "execution_count": null,
   "id": "789e2422-bcf3-47f8-ad27-1ab5d33aca21",
   "metadata": {},
   "outputs": [],
   "source": [
    "model = linear_model.LinearRegression()\n",
    "model.fit(X_train, y_train)"
   ]
  },
  {
   "cell_type": "markdown",
   "id": "ac2749fd-1b12-4de8-be06-e05088defa06",
   "metadata": {},
   "source": [
    "## Evaluation"
   ]
  },
  {
   "cell_type": "markdown",
   "id": "74c02f8d-2bc7-4e9a-94ad-fced3fb4fb41",
   "metadata": {},
   "source": [
    "### Quantitative Evaluation"
   ]
  },
  {
   "cell_type": "code",
   "execution_count": null,
   "id": "6944518d-dee1-4c8c-9ce0-93921e958a77",
   "metadata": {},
   "outputs": [],
   "source": [
    "y_preds = model.predict(X_test)"
   ]
  },
  {
   "cell_type": "code",
   "execution_count": null,
   "id": "970ca0e2-d805-498a-9204-c538dac4a98e",
   "metadata": {},
   "outputs": [],
   "source": [
    "print(\"Coefficients: \\n\", model.coef_)\n",
    "print(\"Mean squared error: %.2f\" % mean_squared_error(y_test, y_preds))\n",
    "print(\"Coefficient of determination (Polynomial): %.2f\" % r2_score(y_test, y_preds))"
   ]
  },
  {
   "cell_type": "code",
   "execution_count": null,
   "id": "fd2c9246",
   "metadata": {},
   "outputs": [],
   "source": [
    "print(f\"Regression-Training set score: {model.score(X_train, y_train):.2f}\")\n",
    "print(f\"Regression-Test set score: {model.score(X_test, y_test):.2f}\")"
   ]
  },
  {
   "cell_type": "code",
   "execution_count": null,
   "id": "6b924cf6",
   "metadata": {},
   "outputs": [],
   "source": [
    "residuals = y_test - y_preds\n",
    "sns.scatterplot(x=y_preds, y=residuals)"
   ]
  },
  {
   "cell_type": "markdown",
   "id": "f4317a13-96ac-44a9-b8f5-3e5456bc4134",
   "metadata": {},
   "source": [
    "### Qualitative Evaluation"
   ]
  },
  {
   "cell_type": "code",
   "execution_count": null,
   "id": "ba79d836-dc2a-4fa4-a9bb-413c7cce35eb",
   "metadata": {},
   "outputs": [],
   "source": [
    "sample_data = X.iloc[0]\n",
    "sample_data"
   ]
  },
  {
   "cell_type": "code",
   "execution_count": null,
   "id": "83b7a634",
   "metadata": {},
   "outputs": [],
   "source": [
    "sample_data_standardized = pf.transform(X.iloc[0].values.reshape(1,-1))\n",
    "sample_data_standardized\n"
   ]
  },
  {
   "cell_type": "code",
   "execution_count": null,
   "id": "11d6391f-1b79-4360-9ada-673da49373a7",
   "metadata": {},
   "outputs": [],
   "source": [
    "model_rent_forecast = model.predict(sample_data_standardized)[0]\n",
    "model_rent_forecast\n",
    "\n",
    "print(f'Predicted rent by the model: {model_rent_forecast}')\n",
    "print(f'Actual rent: {y.iloc[0]}')"
   ]
  },
  {
   "cell_type": "code",
   "execution_count": null,
   "id": "01d05b68",
   "metadata": {},
   "outputs": [],
   "source": [
    "plt.figure(figsize=(8,6))\n",
    "plt.plot(y_test, y_test, 'o', alpha=0.5, color='green', label='Actual Rent Prices')\n",
    "plt.plot(y_test, y_preds, 'o', alpha=0.5, color='skyblue', label='Predicted Rent Prices')\n",
    "\n",
    "plt.title(\"Actual vs. Predicted Rent Prices\")\n",
    "plt.xlabel(\"Actual Rent Prices\")\n",
    "plt.ylabel(\"Predicted Rent Prices\")\n",
    "\n",
    "plt.legend()\n",
    "plt.grid(True)\n",
    "plt.show()"
   ]
  }
 ],
 "metadata": {
  "kernelspec": {
   "display_name": "Python 3 (ipykernel)",
   "language": "python",
   "name": "python3"
  },
  "language_info": {
   "codemirror_mode": {
    "name": "ipython",
    "version": 3
   },
   "file_extension": ".py",
   "mimetype": "text/x-python",
   "name": "python",
   "nbconvert_exporter": "python",
   "pygments_lexer": "ipython3",
   "version": "3.12.0"
  }
 },
 "nbformat": 4,
 "nbformat_minor": 5
}
